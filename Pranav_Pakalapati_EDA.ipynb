{
  "nbformat": 4,
  "nbformat_minor": 0,
  "metadata": {
    "colab": {
      "provenance": []
    },
    "kernelspec": {
      "name": "python3",
      "display_name": "Python 3"
    },
    "language_info": {
      "name": "python"
    }
  },
  "cells": [
    {
      "cell_type": "code",
      "execution_count": 12,
      "metadata": {
        "colab": {
          "base_uri": "https://localhost:8080/",
          "height": 36
        },
        "id": "qmYUTAQcZ3K0",
        "outputId": "14285623-8f58-4151-d8cf-fa1e96184a7c"
      },
      "outputs": [
        {
          "output_type": "execute_result",
          "data": {
            "text/plain": [
              "''"
            ],
            "application/vnd.google.colaboratory.intrinsic+json": {
              "type": "string"
            }
          },
          "metadata": {},
          "execution_count": 12
        }
      ],
      "source": [
        "#importing and loading of datasets\n",
        "import pandas as pd\n",
        "import matplotlib.pyplot as plt\n",
        "from fpdf import FPDF\n",
        "\n",
        "customers_url = \"https://drive.google.com/uc?id=1bu_--mo79VdUG9oin4ybfFGRUSXAe-WE\"\n",
        "products_url = \"https://drive.google.com/uc?id=1IKuDizVapw-hyktwfpoAoaGtHtTNHfd0\"\n",
        "transactions_url = \"https://drive.google.com/uc?id=1saEqdbBB-vuk2hxoAf4TzDEsykdKlzbF\"\n",
        "\n",
        "customers = pd.read_csv(customers_url)\n",
        "products = pd.read_csv(products_url)\n",
        "transactions = pd.read_csv(transactions_url)\n",
        "data = transactions.merge(customers, on='CustomerID').merge(products, on='ProductID')\n",
        "\n",
        "# (EDA)\n",
        "top_products = data.groupby('ProductName')['Quantity'].sum().sort_values(ascending=False).head(10)\n",
        "revenue_by_region = data.groupby('Region')['TotalValue'].sum()\n",
        "\n",
        "# Convertion of TransactionDate to datetime and extract monthly sales\n",
        "data['TransactionDate'] = pd.to_datetime(data['TransactionDate'])\n",
        "data['Month'] = data['TransactionDate'].dt.to_period('M')\n",
        "monthly_sales = data.groupby('Month')['TotalValue'].sum()\n",
        "\n",
        "# Calculation of key business insights\n",
        "average_order_value = data['TotalValue'].mean()\n",
        "repeat_customers = data[data.duplicated('CustomerID', keep=False)]\n",
        "retention_rate = len(repeat_customers['CustomerID'].unique()) / len(customers) * 100\n",
        "\n",
        "insights = [\n",
        "    f\"1. The top-selling products are in high demand, led by categories like {products['Category'].mode()[0]}.\",\n",
        "    f\"2. {revenue_by_region.idxmax()} contributes the most revenue, making it a key target region.\",\n",
        "    \"3. A small number of customers generate a large portion of revenue, emphasizing high-value customer importance.\",\n",
        "    \"4. Seasonal trends show significant spikes in sales during specific months.\",\n",
        "    f\"5. The Average Order Value (AOV) is ${average_order_value:.2f}, reflecting typical customer spending habits.\",\n",
        "    f\"6. The customer retention rate is {retention_rate:.2f}%, indicating strong loyalty among existing customers.\"\n",
        "]\n",
        "\n",
        "# Create and save visualizations (graphs)\n",
        "plt.figure(figsize=(10, 6))\n",
        "monthly_sales.plot(kind='line', marker='o')\n",
        "plt.title('Monthly Sales Trends')\n",
        "plt.xlabel('Month')\n",
        "plt.ylabel('Total Sales')\n",
        "plt.grid()\n",
        "plt.savefig(\"monthly_sales_trends.png\")\n",
        "plt.close()\n",
        "\n",
        "plt.figure(figsize=(10, 6))\n",
        "top_products.plot(kind='bar', color='skyblue')\n",
        "plt.title('Top 10 Best-Selling Products')\n",
        "plt.ylabel('Quantity Sold')\n",
        "plt.xticks(rotation=45)\n",
        "plt.savefig(\"top_products.png\")\n",
        "plt.close()\n",
        "\n",
        "\n",
        "class PDF(FPDF):\n",
        "    def header(self):\n",
        "        self.set_font('Arial', 'B', 12)\n",
        "        self.cell(0, 10, 'EDA Business Insights', border=0, ln=1, align='C')\n",
        "\n",
        "    def footer(self):\n",
        "        self.set_y(-15)\n",
        "        self.set_font('Arial', 'I', 8)\n",
        "        self.cell(0, 10, f'Page {self.page_no()}', align='C')\n",
        "\n",
        "pdf = PDF()\n",
        "pdf.add_page()\n",
        "pdf.set_font('Arial', size=12)\n",
        "pdf.cell(0, 10, 'Business Insights:', ln=1)\n",
        "for insight in insights:\n",
        "    pdf.multi_cell(0, 10, insight)\n",
        "pdf.image(\"monthly_sales_trends.png\", x=10, w=190)\n",
        "current_y = pdf.get_y()\n",
        "if current_y + 100 > 200:\n",
        "    pdf.add_page()\n",
        "\n",
        "pdf.image(\"top_products.png\", x=10, w=190)\n",
        "pdf.output(\"Pranav_Pakalapati_EDA.pdf\")\n"
      ]
    },
    {
      "cell_type": "code",
      "source": [
        "from google.colab import files\n",
        "files.download('/content/Pranav_Pakalapati_EDA.pdf')\n",
        "\n"
      ],
      "metadata": {
        "colab": {
          "base_uri": "https://localhost:8080/",
          "height": 17
        },
        "id": "JuljxFQwcVoO",
        "outputId": "fe4e4256-5e7f-4755-e490-7433204a47f5"
      },
      "execution_count": null,
      "outputs": [
        {
          "output_type": "display_data",
          "data": {
            "text/plain": [
              "<IPython.core.display.Javascript object>"
            ],
            "application/javascript": [
              "\n",
              "    async function download(id, filename, size) {\n",
              "      if (!google.colab.kernel.accessAllowed) {\n",
              "        return;\n",
              "      }\n",
              "      const div = document.createElement('div');\n",
              "      const label = document.createElement('label');\n",
              "      label.textContent = `Downloading \"${filename}\": `;\n",
              "      div.appendChild(label);\n",
              "      const progress = document.createElement('progress');\n",
              "      progress.max = size;\n",
              "      div.appendChild(progress);\n",
              "      document.body.appendChild(div);\n",
              "\n",
              "      const buffers = [];\n",
              "      let downloaded = 0;\n",
              "\n",
              "      const channel = await google.colab.kernel.comms.open(id);\n",
              "      // Send a message to notify the kernel that we're ready.\n",
              "      channel.send({})\n",
              "\n",
              "      for await (const message of channel.messages) {\n",
              "        // Send a message to notify the kernel that we're ready.\n",
              "        channel.send({})\n",
              "        if (message.buffers) {\n",
              "          for (const buffer of message.buffers) {\n",
              "            buffers.push(buffer);\n",
              "            downloaded += buffer.byteLength;\n",
              "            progress.value = downloaded;\n",
              "          }\n",
              "        }\n",
              "      }\n",
              "      const blob = new Blob(buffers, {type: 'application/binary'});\n",
              "      const a = document.createElement('a');\n",
              "      a.href = window.URL.createObjectURL(blob);\n",
              "      a.download = filename;\n",
              "      div.appendChild(a);\n",
              "      a.click();\n",
              "      div.remove();\n",
              "    }\n",
              "  "
            ]
          },
          "metadata": {}
        },
        {
          "output_type": "display_data",
          "data": {
            "text/plain": [
              "<IPython.core.display.Javascript object>"
            ],
            "application/javascript": [
              "download(\"download_94a905fe-42a7-4d4f-9242-fe395ad56e15\", \"Pranav_Pakalapati_EDA.pdf\", 77247)"
            ]
          },
          "metadata": {}
        }
      ]
    }
  ]
}