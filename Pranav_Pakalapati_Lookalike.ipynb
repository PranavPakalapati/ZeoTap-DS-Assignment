{
  "nbformat": 4,
  "nbformat_minor": 0,
  "metadata": {
    "colab": {
      "provenance": []
    },
    "kernelspec": {
      "name": "python3",
      "display_name": "Python 3"
    },
    "language_info": {
      "name": "python"
    }
  },
  "cells": [
    {
      "cell_type": "code",
      "execution_count": 7,
      "metadata": {
        "colab": {
          "base_uri": "https://localhost:8080/"
        },
        "id": "Sx-Q2Amer4RZ",
        "outputId": "6db4d107-a1ea-4cbf-f983-c826b6210134"
      },
      "outputs": [
        {
          "output_type": "stream",
          "name": "stdout",
          "text": [
            "Columns in customer_features: Index(['TransactionID', 'CustomerID', 'ProductID', 'TransactionDate',\n",
            "       'Quantity', 'TotalValue', 'Price_x', 'ProductName', 'Category',\n",
            "       'Price_y', 'CustomerName', 'Region', 'SignupDate'],\n",
            "      dtype='object')\n",
            "'Price' column not found. Using the available columns for aggregation.\n"
          ]
        }
      ],
      "source": [
        "#importing and loading datsets\n",
        "import pandas as pd\n",
        "from sklearn.metrics.pairwise import cosine_similarity\n",
        "from sklearn.preprocessing import StandardScaler\n",
        "\n",
        "customers_url = \"https://drive.google.com/uc?id=1bu_--mo79VdUG9oin4ybfFGRUSXAe-WE\"\n",
        "products_url = \"https://drive.google.com/uc?id=1IKuDizVapw-hyktwfpoAoaGtHtTNHfd0\"\n",
        "transactions_url = \"https://drive.google.com/uc?id=1saEqdbBB-vuk2hxoAf4TzDEsykdKlzbF\"\n",
        "\n",
        "customers = pd.read_csv(customers_url)\n",
        "products = pd.read_csv(products_url)\n",
        "transactions = pd.read_csv(transactions_url)\n",
        "\n",
        "transaction_details = transactions.merge(products, on='ProductID', how='left')             # Combining Transactions and Products\n",
        "customer_features = transaction_details.merge(customers, on='CustomerID', how='left')\n",
        "print(\"Columns in customer_features:\", customer_features.columns)                          # checking the columns\n",
        "\n",
        "if 'Price' not in customer_features.columns:\n",
        "    print(\"'Price' column not found. Using the available columns for aggregation.\")        # Checking for Price Column\n",
        "    features = ['Quantity', 'TotalValue']\n",
        "else:\n",
        "    features = ['Quantity', 'TotalValue', 'Price']\n",
        "\n",
        "customer_features_agg = customer_features.groupby('CustomerID')[features].mean().reset_index()\n",
        "scaler = StandardScaler()\n",
        "scaled_features = scaler.fit_transform(customer_features_agg[features])\n",
        "                                                                                          # Computing cosine similarity score\n",
        "similarity_matrix = cosine_similarity(scaled_features)\n",
        "similarity_df = pd.DataFrame(similarity_matrix, index=customer_features_agg['CustomerID'], columns=customer_features_agg['CustomerID'])\n",
        "lookalike_results = {}\n",
        "for customer_id in customer_features_agg['CustomerID'].head(20):\n",
        "    similar_customers = similarity_df[customer_id].sort_values(ascending=False)[1:4]\n",
        "    lookalike_results[customer_id] = [(similar_customer, similar_customers[similar_customer]) for similar_customer in similar_customers.index]\n",
        "\n",
        "\n",
        "lookalike_df = pd.DataFrame.from_dict(lookalike_results, orient='index', columns=['Lookalike & score_1', 'Lookalike & score_2', 'Lookalike & score_3'])\n",
        "lookalike_df.index.name = 'CustomerID'\n",
        "\n",
        "lookalike_df.to_csv(\"Pranav_Pakalapati_Lookalike.csv\")                                  # output into csv file\n"
      ]
    },
    {
      "cell_type": "code",
      "source": [
        "from google.colab import files\n",
        "files.download(\"Pranav_Pakalapati_Lookalike.csv\")\n"
      ],
      "metadata": {
        "colab": {
          "base_uri": "https://localhost:8080/",
          "height": 17
        },
        "id": "6qxCweMWsh3e",
        "outputId": "88c6bc23-b766-4992-bfd3-9e8b4a873cfb"
      },
      "execution_count": 6,
      "outputs": [
        {
          "output_type": "display_data",
          "data": {
            "text/plain": [
              "<IPython.core.display.Javascript object>"
            ],
            "application/javascript": [
              "\n",
              "    async function download(id, filename, size) {\n",
              "      if (!google.colab.kernel.accessAllowed) {\n",
              "        return;\n",
              "      }\n",
              "      const div = document.createElement('div');\n",
              "      const label = document.createElement('label');\n",
              "      label.textContent = `Downloading \"${filename}\": `;\n",
              "      div.appendChild(label);\n",
              "      const progress = document.createElement('progress');\n",
              "      progress.max = size;\n",
              "      div.appendChild(progress);\n",
              "      document.body.appendChild(div);\n",
              "\n",
              "      const buffers = [];\n",
              "      let downloaded = 0;\n",
              "\n",
              "      const channel = await google.colab.kernel.comms.open(id);\n",
              "      // Send a message to notify the kernel that we're ready.\n",
              "      channel.send({})\n",
              "\n",
              "      for await (const message of channel.messages) {\n",
              "        // Send a message to notify the kernel that we're ready.\n",
              "        channel.send({})\n",
              "        if (message.buffers) {\n",
              "          for (const buffer of message.buffers) {\n",
              "            buffers.push(buffer);\n",
              "            downloaded += buffer.byteLength;\n",
              "            progress.value = downloaded;\n",
              "          }\n",
              "        }\n",
              "      }\n",
              "      const blob = new Blob(buffers, {type: 'application/binary'});\n",
              "      const a = document.createElement('a');\n",
              "      a.href = window.URL.createObjectURL(blob);\n",
              "      a.download = filename;\n",
              "      div.appendChild(a);\n",
              "      a.click();\n",
              "      div.remove();\n",
              "    }\n",
              "  "
            ]
          },
          "metadata": {}
        },
        {
          "output_type": "display_data",
          "data": {
            "text/plain": [
              "<IPython.core.display.Javascript object>"
            ],
            "application/javascript": [
              "download(\"download_01669baa-01dc-41df-8573-6e4caad8c356\", \"Pranav_Pakalapati_Lookalike.csv\", 2093)"
            ]
          },
          "metadata": {}
        }
      ]
    },
    {
      "cell_type": "code",
      "source": [],
      "metadata": {
        "id": "aYXZlAC9uan4"
      },
      "execution_count": null,
      "outputs": []
    }
  ]
}